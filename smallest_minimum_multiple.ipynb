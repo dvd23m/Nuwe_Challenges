{
 "cells": [
  {
   "cell_type": "code",
   "execution_count": 26,
   "id": "69f34daf",
   "metadata": {},
   "outputs": [
    {
     "name": "stdout",
     "output_type": "stream",
     "text": [
      "The smallest positive number divisible by all of numbers from 1 to 20 is: 120\n"
     ]
    }
   ],
   "source": [
    "# Initialize variables\n",
    "cont = 1\n",
    "end = False\n",
    "numbers = [1,2,3,4,5,6,7,8,9,10,11,12,13,14,15,16,17,18,19]\n",
    "\n",
    "while end==False:\n",
    "    # Results list of results\n",
    "    res = [cont % num_pos for num_pos in numbers]\n",
    "    # Check if all remains are 0\n",
    "    if res.count(0) == 10:\n",
    "        print(f'The smallest positive number divisible by all of numbers from 1 to 20 is: {cont}')\n",
    "        end = True\n",
    "    cont+=1"
   ]
  }
 ],
 "metadata": {
  "kernelspec": {
   "display_name": "Python 3 (ipykernel)",
   "language": "python",
   "name": "python3"
  },
  "language_info": {
   "codemirror_mode": {
    "name": "ipython",
    "version": 3
   },
   "file_extension": ".py",
   "mimetype": "text/x-python",
   "name": "python",
   "nbconvert_exporter": "python",
   "pygments_lexer": "ipython3",
   "version": "3.8.10"
  }
 },
 "nbformat": 4,
 "nbformat_minor": 5
}
